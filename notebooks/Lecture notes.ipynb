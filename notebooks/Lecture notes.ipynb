{
 "cells": [
  {
   "cell_type": "markdown",
   "id": "a6d235a1",
   "metadata": {},
   "source": [
    "# Import "
   ]
  },
  {
   "cell_type": "code",
   "execution_count": null,
   "id": "5e608ec7",
   "metadata": {},
   "outputs": [],
   "source": [
    "from lewagon.student import Student"
   ]
  },
  {
   "cell_type": "code",
   "execution_count": 2,
   "id": "b8efe204",
   "metadata": {},
   "outputs": [],
   "source": [
    "import sys"
   ]
  },
  {
   "cell_type": "code",
   "execution_count": 3,
   "id": "b43986da",
   "metadata": {},
   "outputs": [
    {
     "data": {
      "text/plain": [
       "['/Users/yusuke/code/lewagon-repo/lectures-1509/project-setup/lewagon-project/notebooks',\n",
       " '/Users/yusuke/code/lewagon-repo/lectures-1509/project-setup/lewagon-project',\n",
       " '/Users/yusuke/.pyenv/versions/3.10.6/lib/python310.zip',\n",
       " '/Users/yusuke/.pyenv/versions/3.10.6/lib/python3.10',\n",
       " '/Users/yusuke/.pyenv/versions/3.10.6/lib/python3.10/lib-dynload',\n",
       " '',\n",
       " '/Users/yusuke/.pyenv/versions/3.10.6/envs/lewagon/lib/python3.10/site-packages',\n",
       " '/Users/yusuke/code/yusuke0127/ds-mlops-week-full-recap']"
      ]
     },
     "execution_count": 3,
     "metadata": {},
     "output_type": "execute_result"
    }
   ],
   "source": [
    "sys.path"
   ]
  },
  {
   "cell_type": "code",
   "execution_count": null,
   "id": "872acb35",
   "metadata": {},
   "outputs": [],
   "source": [
    "root_path  = '/Users/yusuke/code/lewagon-repo/lectures-1509/project-setup/lewagon-project'"
   ]
  },
  {
   "cell_type": "code",
   "execution_count": null,
   "id": "9a77a7ac",
   "metadata": {},
   "outputs": [],
   "source": [
    "root_path"
   ]
  },
  {
   "cell_type": "code",
   "execution_count": null,
   "id": "6169edf1",
   "metadata": {},
   "outputs": [],
   "source": [
    "sys.path.append(root_path)"
   ]
  },
  {
   "cell_type": "code",
   "execution_count": null,
   "id": "2239d989",
   "metadata": {},
   "outputs": [],
   "source": [
    "sys.path"
   ]
  },
  {
   "cell_type": "code",
   "execution_count": null,
   "id": "37df4bd6",
   "metadata": {},
   "outputs": [],
   "source": [
    "from lewagon.student import Student"
   ]
  },
  {
   "cell_type": "code",
   "execution_count": null,
   "id": "dcaae498",
   "metadata": {},
   "outputs": [],
   "source": [
    "yann = Student('yann', 21)\n",
    "yann"
   ]
  },
  {
   "cell_type": "code",
   "execution_count": null,
   "id": "305144ad",
   "metadata": {},
   "outputs": [],
   "source": [
    "yann.__dict__"
   ]
  },
  {
   "cell_type": "markdown",
   "id": "81b84b9a",
   "metadata": {},
   "source": [
    "# Another import"
   ]
  },
  {
   "cell_type": "code",
   "execution_count": 4,
   "id": "c51c2e95",
   "metadata": {},
   "outputs": [
    {
     "data": {
      "text/plain": [
       "'/Users/yusuke/code/lewagon-repo/lectures-1509/project-setup/lewagon-project/notebooks'"
      ]
     },
     "execution_count": 4,
     "metadata": {},
     "output_type": "execute_result"
    }
   ],
   "source": [
    "import os; os.getcwd()"
   ]
  },
  {
   "cell_type": "code",
   "execution_count": 5,
   "id": "0cdeca50",
   "metadata": {},
   "outputs": [
    {
     "data": {
      "text/plain": [
       "'/Users/yusuke/code/lewagon-repo/lectures-1509/project-setup/lewagon-project/notebooks'"
      ]
     },
     "execution_count": 5,
     "metadata": {},
     "output_type": "execute_result"
    }
   ],
   "source": [
    "pwd"
   ]
  },
  {
   "cell_type": "code",
   "execution_count": 12,
   "id": "37c578e7",
   "metadata": {},
   "outputs": [],
   "source": [
    "%load_ext autoreload\n",
    "%autoreload 2\n",
    "from lewagon.student import Student"
   ]
  },
  {
   "cell_type": "code",
   "execution_count": 13,
   "id": "3a3b7fff",
   "metadata": {},
   "outputs": [
    {
     "data": {
      "text/plain": [
       "<lewagon.student.Student at 0x12c3af190>"
      ]
     },
     "execution_count": 13,
     "metadata": {},
     "output_type": "execute_result"
    }
   ],
   "source": [
    "yann = Student('yann', 21)\n",
    "yann"
   ]
  },
  {
   "cell_type": "code",
   "execution_count": 14,
   "id": "257600eb",
   "metadata": {},
   "outputs": [
    {
     "data": {
      "text/plain": [
       "{'name': 'Yann', 'age': 21}"
      ]
     },
     "execution_count": 14,
     "metadata": {},
     "output_type": "execute_result"
    }
   ],
   "source": [
    "yann.__dict__"
   ]
  },
  {
   "cell_type": "code",
   "execution_count": 15,
   "id": "68da669e",
   "metadata": {},
   "outputs": [
    {
     "name": "stdout",
     "output_type": "stream",
     "text": [
      "Yann says hi\n"
     ]
    }
   ],
   "source": [
    "yann.say('hi')"
   ]
  },
  {
   "cell_type": "code",
   "execution_count": null,
   "id": "6077c9f4",
   "metadata": {},
   "outputs": [],
   "source": []
  }
 ],
 "metadata": {
  "kernelspec": {
   "display_name": "Python 3 (ipykernel)",
   "language": "python",
   "name": "python3"
  },
  "language_info": {
   "codemirror_mode": {
    "name": "ipython",
    "version": 3
   },
   "file_extension": ".py",
   "mimetype": "text/x-python",
   "name": "python",
   "nbconvert_exporter": "python",
   "pygments_lexer": "ipython3",
   "version": "3.10.6"
  },
  "toc": {
   "base_numbering": 1,
   "nav_menu": {},
   "number_sections": true,
   "sideBar": true,
   "skip_h1_title": false,
   "title_cell": "Table of Contents",
   "title_sidebar": "Contents",
   "toc_cell": false,
   "toc_position": {},
   "toc_section_display": true,
   "toc_window_display": false
  },
  "varInspector": {
   "cols": {
    "lenName": 16,
    "lenType": 16,
    "lenVar": 40
   },
   "kernels_config": {
    "python": {
     "delete_cmd_postfix": "",
     "delete_cmd_prefix": "del ",
     "library": "var_list.py",
     "varRefreshCmd": "print(var_dic_list())"
    },
    "r": {
     "delete_cmd_postfix": ") ",
     "delete_cmd_prefix": "rm(",
     "library": "var_list.r",
     "varRefreshCmd": "cat(var_dic_list()) "
    }
   },
   "types_to_exclude": [
    "module",
    "function",
    "builtin_function_or_method",
    "instance",
    "_Feature"
   ],
   "window_display": false
  }
 },
 "nbformat": 4,
 "nbformat_minor": 5
}
