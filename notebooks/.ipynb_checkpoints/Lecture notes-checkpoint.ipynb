{
 "cells": [
  {
   "cell_type": "code",
   "execution_count": 1,
   "id": "4cede0f0",
   "metadata": {},
   "outputs": [
    {
     "name": "stdout",
     "output_type": "stream",
     "text": [
      "Untitled.ipynb\r\n"
     ]
    }
   ],
   "source": [
    "ls"
   ]
  },
  {
   "cell_type": "code",
   "execution_count": 2,
   "id": "fd3859f4",
   "metadata": {},
   "outputs": [
    {
     "data": {
      "text/plain": [
       "'/Users/yusuke/code/lewagon-repo/lectures-1509/project-setup/lewagon-project/notebooks'"
      ]
     },
     "execution_count": 2,
     "metadata": {},
     "output_type": "execute_result"
    }
   ],
   "source": [
    "pwd"
   ]
  },
  {
   "cell_type": "code",
   "execution_count": 3,
   "id": "3eb8bcd3",
   "metadata": {},
   "outputs": [
    {
     "name": "stdout",
     "output_type": "stream",
     "text": [
      "\u001b[1m\u001b[36mcsv\u001b[m\u001b[m/       \u001b[1m\u001b[36mlewagon\u001b[m\u001b[m/   \u001b[1m\u001b[36mnotebooks\u001b[m\u001b[m/\r\n"
     ]
    }
   ],
   "source": [
    "ls ../"
   ]
  },
  {
   "cell_type": "code",
   "execution_count": 4,
   "id": "d9e6225d",
   "metadata": {},
   "outputs": [
    {
     "ename": "ModuleNotFoundError",
     "evalue": "No module named 'lewagon'",
     "output_type": "error",
     "traceback": [
      "\u001b[0;31m---------------------------------------------------------------------------\u001b[0m",
      "\u001b[0;31mModuleNotFoundError\u001b[0m                       Traceback (most recent call last)",
      "Cell \u001b[0;32mIn [4], line 1\u001b[0m\n\u001b[0;32m----> 1\u001b[0m \u001b[38;5;28;01mfrom\u001b[39;00m \u001b[38;5;21;01mlewagon\u001b[39;00m\u001b[38;5;21;01m.\u001b[39;00m\u001b[38;5;21;01mstudent\u001b[39;00m \u001b[38;5;28;01mimport\u001b[39;00m Student\n",
      "\u001b[0;31mModuleNotFoundError\u001b[0m: No module named 'lewagon'"
     ]
    }
   ],
   "source": [
    "from lewagon.student import Student"
   ]
  },
  {
   "cell_type": "code",
   "execution_count": 5,
   "id": "ec16eed6",
   "metadata": {},
   "outputs": [],
   "source": [
    "import sys"
   ]
  },
  {
   "cell_type": "code",
   "execution_count": 6,
   "id": "95c82a18",
   "metadata": {},
   "outputs": [
    {
     "data": {
      "text/plain": [
       "['/Users/yusuke/code/lewagon-repo/lectures-1509/project-setup/lewagon-project/notebooks',\n",
       " '/Users/yusuke/.pyenv/versions/3.10.6/lib/python310.zip',\n",
       " '/Users/yusuke/.pyenv/versions/3.10.6/lib/python3.10',\n",
       " '/Users/yusuke/.pyenv/versions/3.10.6/lib/python3.10/lib-dynload',\n",
       " '',\n",
       " '/Users/yusuke/.pyenv/versions/3.10.6/envs/lewagon/lib/python3.10/site-packages',\n",
       " '/Users/yusuke/code/yusuke0127/ds-mlops-week-full-recap']"
      ]
     },
     "execution_count": 6,
     "metadata": {},
     "output_type": "execute_result"
    }
   ],
   "source": [
    "sys.path"
   ]
  },
  {
   "cell_type": "code",
   "execution_count": 7,
   "id": "c91be0aa",
   "metadata": {},
   "outputs": [],
   "source": [
    "root_path  = '/Users/yusuke/code/lewagon-repo/lectures-1509/project-setup/lewagon-project'"
   ]
  },
  {
   "cell_type": "code",
   "execution_count": 8,
   "id": "8026552b",
   "metadata": {},
   "outputs": [
    {
     "data": {
      "text/plain": [
       "'/Users/yusuke/code/lewagon-repo/lectures-1509/project-setup/lewagon-project/lewagon/'"
      ]
     },
     "execution_count": 8,
     "metadata": {},
     "output_type": "execute_result"
    }
   ],
   "source": [
    "root_path"
   ]
  },
  {
   "cell_type": "code",
   "execution_count": null,
   "id": "b6c8ae5b",
   "metadata": {},
   "outputs": [],
   "source": [
    "sys.path.appen"
   ]
  }
 ],
 "metadata": {
  "kernelspec": {
   "display_name": "Python 3 (ipykernel)",
   "language": "python",
   "name": "python3"
  },
  "language_info": {
   "codemirror_mode": {
    "name": "ipython",
    "version": 3
   },
   "file_extension": ".py",
   "mimetype": "text/x-python",
   "name": "python",
   "nbconvert_exporter": "python",
   "pygments_lexer": "ipython3",
   "version": "3.10.6"
  },
  "toc": {
   "base_numbering": 1,
   "nav_menu": {},
   "number_sections": true,
   "sideBar": true,
   "skip_h1_title": false,
   "title_cell": "Table of Contents",
   "title_sidebar": "Contents",
   "toc_cell": false,
   "toc_position": {},
   "toc_section_display": true,
   "toc_window_display": false
  },
  "varInspector": {
   "cols": {
    "lenName": 16,
    "lenType": 16,
    "lenVar": 40
   },
   "kernels_config": {
    "python": {
     "delete_cmd_postfix": "",
     "delete_cmd_prefix": "del ",
     "library": "var_list.py",
     "varRefreshCmd": "print(var_dic_list())"
    },
    "r": {
     "delete_cmd_postfix": ") ",
     "delete_cmd_prefix": "rm(",
     "library": "var_list.r",
     "varRefreshCmd": "cat(var_dic_list()) "
    }
   },
   "types_to_exclude": [
    "module",
    "function",
    "builtin_function_or_method",
    "instance",
    "_Feature"
   ],
   "window_display": false
  }
 },
 "nbformat": 4,
 "nbformat_minor": 5
}
